{
  "cells": [
    {
      "cell_type": "markdown",
      "metadata": {},
      "source": [
        "# RAG"
      ]
    },
    {
      "cell_type": "markdown",
      "metadata": {},
      "source": [
        "## Requirements"
      ]
    },
    {
      "cell_type": "code",
      "execution_count": 1,
      "metadata": {
        "id": "D7qkZVjtPtCt"
      },
      "outputs": [],
      "source": [
        "%%capture\n",
        "!pip install transformers accelerate bitsandbytes langchain langchain-community sentence-transformers faiss-gpu pandas gdown"
      ]
    },
    {
      "cell_type": "markdown",
      "metadata": {},
      "source": [
        "## Dataset"
      ]
    },
    {
      "cell_type": "code",
      "execution_count": 2,
      "metadata": {
        "colab": {
          "base_uri": "https://localhost:8080/"
        },
        "id": "KU3LtV3zPtCu",
        "outputId": "b3a2df01-12a9-4afc-d353-deac5300376b"
      },
      "outputs": [
        {
          "name": "stdout",
          "output_type": "stream",
          "text": [
            "Downloading...\n",
            "From (original): https://drive.google.com/uc?id=1Lq2zVJlN_B4kUAu4VafQ4jXMIQiAR9vI\n",
            "From (redirected): https://drive.google.com/uc?id=1Lq2zVJlN_B4kUAu4VafQ4jXMIQiAR9vI&confirm=t&uuid=ee13769f-40be-449d-9834-c73fdd518996\n",
            "To: /content/IMDB_crawled.json\n",
            "100% 292M/292M [00:02<00:00, 125MB/s] \n"
          ]
        }
      ],
      "source": [
        "!gdown --fuzzy https://drive.google.com/file/d/1Lq2zVJlN_B4kUAu4VafQ4jXMIQiAR9vI/view?usp=sharing"
      ]
    },
    {
      "cell_type": "markdown",
      "metadata": {},
      "source": [
        "## Config"
      ]
    },
    {
      "cell_type": "code",
      "execution_count": 3,
      "metadata": {
        "id": "MUqmeYExPtCv"
      },
      "outputs": [],
      "source": [
        "class Config:\n",
        "    EMBEDDING_MODEL_NAME=\"thenlper/gte-base\"\n",
        "    LLM_MODEL_NAME=\"HuggingFaceH4/zephyr-7b-beta\"\n",
        "    K = 5 # top K retrieval"
      ]
    },
    {
      "cell_type": "markdown",
      "metadata": {},
      "source": [
        "## Preprocessing"
      ]
    },
    {
      "cell_type": "code",
      "execution_count": 4,
      "metadata": {
        "id": "sjdAj0mnPtCv"
      },
      "outputs": [],
      "source": [
        "import pandas as pd\n",
        "\n",
        "df = pd.read_json('IMDB_crawled.json')"
      ]
    },
    {
      "cell_type": "code",
      "execution_count": 8,
      "metadata": {
        "id": "jYJlIaTWPtCw"
      },
      "outputs": [],
      "source": [
        "import os\n",
        "\n",
        "os.makedirs('data', exist_ok=True)\n",
        "\n",
        "# preprocess your data and only store the needed data as the context window for embedding model is limited\n",
        "\n",
        "df.to_csv('data/imdb.csv', index=False)"
      ]
    },
    {
      "cell_type": "markdown",
      "metadata": {},
      "source": [
        "## Vectorizer"
      ]
    },
    {
      "cell_type": "markdown",
      "metadata": {},
      "source": [
        "load the CSV file and vectorize the rows using HuggingFaceEmbeddings.\n",
        "Store the results using FAISS vectorstore.\n",
        "Save the vectorestore in a pickle file for future usages."
      ]
    },
    {
      "cell_type": "code",
      "execution_count": 9,
      "metadata": {
        "colab": {
          "base_uri": "https://localhost:8080/"
        },
        "id": "-WafXxVaPtCw",
        "outputId": "6645aae7-6325-48f1-a631-e6349362cf7f"
      },
      "outputs": [
        {
          "name": "stderr",
          "output_type": "stream",
          "text": [
            "/usr/local/lib/python3.10/dist-packages/huggingface_hub/file_download.py:1132: FutureWarning: `resume_download` is deprecated and will be removed in version 1.0.0. Downloads always resume when possible. If you want to force a new download, use `force_download=True`.\n",
            "  warnings.warn(\n"
          ]
        }
      ],
      "source": [
        "import pickle\n",
        "\n",
        "from langchain.document_loaders.csv_loader import CSVLoader\n",
        "from langchain.vectorstores.utils import DistanceStrategy\n",
        "from langchain.vectorstores.faiss import FAISS\n",
        "\n",
        "from langchain_community.embeddings import HuggingFaceEmbeddings\n",
        "\n",
        "# load the csv\n",
        "\n",
        "# load the embeddings model\n",
        "\n",
        "# save embed the documents using the model in a vectorstore\n",
        "\n",
        "# with open(\"data/vectorstore.pkl\", \"wb\") as f:\n",
        "#     pickle.dump(vectorstore, f)"
      ]
    },
    {
      "cell_type": "markdown",
      "metadata": {},
      "source": [
        "load the vectorstore as a retriever."
      ]
    },
    {
      "cell_type": "code",
      "execution_count": 10,
      "metadata": {
        "id": "sN1YgCMGPtCw"
      },
      "outputs": [],
      "source": [
        "# with open(\"data/vectorstore.pkl\", \"rb\") as f:\n",
        "#     vectorstore = pickle.load(f)\n",
        "\n",
        "# load the retriever from the vectorstore\n",
        "retriever = None"
      ]
    },
    {
      "cell_type": "markdown",
      "metadata": {},
      "source": [
        "## LLM"
      ]
    },
    {
      "cell_type": "markdown",
      "metadata": {},
      "source": [
        "load the quantized LLM."
      ]
    },
    {
      "cell_type": "code",
      "execution_count": 11,
      "metadata": {
        "colab": {
          "base_uri": "https://localhost:8080/",
          "height": 104,
          "referenced_widgets": [
            "7126cd7d519441278252013816472b58",
            "9f28a42abc804a5e97edd39d19fac347",
            "459bb3a35c574737a695b3e2d3e609a9",
            "95d80492b2be4005a7752a84c7a84bef",
            "001ae07ad4654f36a51934fc1b42be32",
            "c7bdaba6b09e401c80c3c8a292648682",
            "da3b93f3ee5940e89c1bbc7044c10520",
            "1eef87d0268b4ac7a0960f0304113994",
            "c9691dc55fc84e819d1dc0bbc19afe87",
            "ef05a78cdd174ee987b53c114310fde3",
            "5c0022b886284914be87b6228459e325"
          ]
        },
        "id": "JM1GYo6HR2MB",
        "outputId": "729df36c-bc0f-4167-e743-d582b35fd388"
      },
      "outputs": [
        {
          "data": {
            "application/vnd.jupyter.widget-view+json": {
              "model_id": "7126cd7d519441278252013816472b58",
              "version_major": 2,
              "version_minor": 0
            },
            "text/plain": [
              "Loading checkpoint shards:   0%|          | 0/8 [00:00<?, ?it/s]"
            ]
          },
          "metadata": {},
          "output_type": "display_data"
        },
        {
          "name": "stderr",
          "output_type": "stream",
          "text": [
            "/usr/local/lib/python3.10/dist-packages/langchain_core/_api/deprecation.py:119: LangChainDeprecationWarning: The class `HuggingFacePipeline` was deprecated in LangChain 0.0.37 and will be removed in 0.3. An updated version of the class exists in the from rom langchain-huggingface package and should be used instead. To use it run `pip install -U from rom langchain-huggingface` and import as `from from rom langchain_huggingface import llms import HuggingFacePipeline`.\n",
            "  warn_deprecated(\n"
          ]
        }
      ],
      "source": [
        "import torch\n",
        "\n",
        "from transformers import AutoTokenizer, AutoModelForCausalLM, BitsAndBytesConfig\n",
        "from transformers import pipeline\n",
        "\n",
        "from langchain_community.llms.huggingface_pipeline import HuggingFacePipeline\n",
        "\n",
        "# load the quantization config\n",
        "bnb_config = None\n",
        "\n",
        "model = AutoModelForCausalLM.from_pretrained(Config.LLM_MODEL_NAME, quantization_config=bnb_config, device_map=\"cuda:0\")\n",
        "tokenizer = AutoTokenizer.from_pretrained(Config.LLM_MODEL_NAME)\n",
        "\n",
        "# init the pipeline\n",
        "READER_LLM = None\n",
        "\n",
        "llm = HuggingFacePipeline(\n",
        "    pipeline=READER_LLM,\n",
        ")"
      ]
    },
    {
      "cell_type": "markdown",
      "metadata": {},
      "source": [
        "initialize the prompt template for the query chain. query chain is used to get a query from the chat history. you may change the prompt as you like to get better results."
      ]
    },
    {
      "cell_type": "code",
      "execution_count": 35,
      "metadata": {
        "id": "1eM1zuNUgMPq"
      },
      "outputs": [],
      "source": [
        "from langchain.prompts import PromptTemplate\n",
        "\n",
        "from langchain_core.output_parsers import StrOutputParser\n",
        "\n",
        "class LoggerStrOutputParser(StrOutputParser):\n",
        "    def parse(self, text: str) -> str:\n",
        "        # process the LLM output\n",
        "        print(f\"QUERY: {text}\")\n",
        "        return text\n",
        "\n",
        "query_transform_prompt = PromptTemplate(\n",
        "    input_variables=[\"messages\"],\n",
        "    template=\"\"\"<|system|>You are a helpful assistant.\n",
        "{messages}\n",
        "<|user|>\n",
        "give me the search query about the above conversation.\n",
        "<|assistant|>\"\"\"\n",
        ")\n",
        "\n",
        "# init the query chain\n",
        "query_transforming_retriever_chain = None"
      ]
    },
    {
      "cell_type": "markdown",
      "metadata": {},
      "source": [
        "initialize the main retrieval chain that gives the resulting documents to LLM and gets the output back."
      ]
    },
    {
      "cell_type": "code",
      "execution_count": 36,
      "metadata": {
        "id": "KwMTLauLS7m0"
      },
      "outputs": [],
      "source": [
        "from langchain.chains.combine_documents import create_stuff_documents_chain\n",
        "\n",
        "from langchain_core.runnables import RunnablePassthrough\n",
        "\n",
        "prompt = PromptTemplate(\n",
        "    input_variables=[\"context\", \"messages\"],\n",
        "    template=\"\"\"<|system|>You are a helpful assistant.\n",
        "\n",
        "Here are the movies you MUST choose from:\n",
        "\n",
        "{context}\n",
        "-----------------\n",
        "{messages}\n",
        "<|assistant|>\"\"\")\n",
        "\n",
        "# init the retriver chain\n",
        "retrieval_chain = None"
      ]
    },
    {
      "cell_type": "markdown",
      "metadata": {},
      "source": [
        "write the conversation helper class for easier testing."
      ]
    },
    {
      "cell_type": "code",
      "execution_count": 37,
      "metadata": {
        "id": "zhttNbN0U0WF"
      },
      "outputs": [],
      "source": [
        "class Conversation:\n",
        "    def __init__(self):\n",
        "        self.messages = []\n",
        "\n",
        "    def add_assistant_message(self, message):\n",
        "        self.messages.append(('assistant', message))\n",
        "\n",
        "    def add_user_message(self, message):\n",
        "        self.messages.append(('user', message))\n",
        "\n",
        "    def get_messages(self):\n",
        "        # concatenate the messages with the roles in the instruction format\n",
        "        pass\n",
        "\n",
        "    def chat(self, message):\n",
        "        self.add_user_message(message)\n",
        "        messages = self.get_messages()\n",
        "        # invoke the chain\n",
        "        response = None\n",
        "        self.add_assistant_message(response)\n",
        "        return response"
      ]
    },
    {
      "cell_type": "markdown",
      "metadata": {},
      "source": [
        "## Test"
      ]
    },
    {
      "cell_type": "markdown",
      "metadata": {},
      "source": [
        "talk with the RAG to see how good it performs."
      ]
    },
    {
      "cell_type": "code",
      "execution_count": 42,
      "metadata": {
        "colab": {
          "base_uri": "https://localhost:8080/"
        },
        "id": "g8XV3HvhVTNu",
        "outputId": "b96ea4b1-8d98-4a03-9e67-a41c7a2b3829"
      },
      "outputs": [
        {
          "name": "stdout",
          "output_type": "stream",
          "text": [
            "QUERY: gangster movies with gritty storylines and intense action sequences\n",
            "Title: Goodfellas (1990)\n",
            "Genre: Biographical crime drama\n",
            "Movie Rating: 8.7\n",
            "\n",
            "Plot: Based on the true story of Henry Hill, a young man who grew up in the violent world of the mafia. As he rises through the ranks, he becomes increasingly consumed by the criminal lifestyle, eventually leading to his downfall.\n",
            "\n",
            "Review: If you're looking for a classic gangster movie that will leave you on the edge of your seat, look no further than Goodfellas. Martin Scorsese's masterful direction and Robert De Niro's captivating performance as Henry Hill will draw you into the gritty world of organized crime. With its gripping storyline and unforgettable characters, Goodfellas is a must-watch for any fan of the genre. Get ready to be swept away by this timeless cinematic masterpiece.\n"
          ]
        }
      ],
      "source": [
        "c = Conversation()\n",
        "A = c.chat('give me a cool gangster movie')\n",
        "print(A)"
      ]
    },
    {
      "cell_type": "code",
      "execution_count": 43,
      "metadata": {
        "colab": {
          "base_uri": "https://localhost:8080/"
        },
        "id": "cC0Sz0Nbl_Zr",
        "outputId": "092b4108-3ace-4261-ca52-108828ec3e3b"
      },
      "outputs": [
        {
          "name": "stdout",
          "output_type": "stream",
          "text": [
            "QUERY: Goodfellas-inspired biographical crime dramas with gritty storylines and intense action set in the world of organized crime released after 1990.\n",
            "Title: The Irishman (2019)\n",
            "Genre: Biographical crime drama\n",
            "Movie Rating: 7.4\n",
            "\n",
            "Plot: Frank Sheeran, a truck driver and union official, becomes involved with the Bufalino crime organization and befriends mob boss Russell Bufalino. Their relationship leads Sheeran to play a role in some of the most infamous unsolved mysteries in American history.\n",
            "\n",
            "Review: If you're looking for a more recent addition to the gangster genre, then The Irishman is the perfect choice for you. Directed by Martin Scorsese and starring an all-star cast including Robert De Niro, Al Pacino, and Joe Pesci, this film is a true masterpiece. With its intricate plot and stunning visual effects, The Irishman is a must-watch for any fan of the genre. Prepare yourself for a thrilling ride filled with suspense, action, and unforgettable performances.\n"
          ]
        }
      ],
      "source": [
        "A = c.chat('give me a newer one')\n",
        "print(A)"
      ]
    }
  ],
  "metadata": {
    "accelerator": "GPU",
    "colab": {
      "gpuType": "T4",
      "provenance": []
    },
    "kernelspec": {
      "display_name": "Python 3",
      "name": "python3"
    },
    "language_info": {
      "codemirror_mode": {
        "name": "ipython",
        "version": 3
      },
      "file_extension": ".py",
      "mimetype": "text/x-python",
      "name": "python",
      "nbconvert_exporter": "python",
      "pygments_lexer": "ipython3",
      "version": "3.9.13"
    },
    "widgets": {
      "application/vnd.jupyter.widget-state+json": {
        "001ae07ad4654f36a51934fc1b42be32": {
          "model_module": "@jupyter-widgets/base",
          "model_module_version": "1.2.0",
          "model_name": "LayoutModel",
          "state": {
            "_model_module": "@jupyter-widgets/base",
            "_model_module_version": "1.2.0",
            "_model_name": "LayoutModel",
            "_view_count": null,
            "_view_module": "@jupyter-widgets/base",
            "_view_module_version": "1.2.0",
            "_view_name": "LayoutView",
            "align_content": null,
            "align_items": null,
            "align_self": null,
            "border": null,
            "bottom": null,
            "display": null,
            "flex": null,
            "flex_flow": null,
            "grid_area": null,
            "grid_auto_columns": null,
            "grid_auto_flow": null,
            "grid_auto_rows": null,
            "grid_column": null,
            "grid_gap": null,
            "grid_row": null,
            "grid_template_areas": null,
            "grid_template_columns": null,
            "grid_template_rows": null,
            "height": null,
            "justify_content": null,
            "justify_items": null,
            "left": null,
            "margin": null,
            "max_height": null,
            "max_width": null,
            "min_height": null,
            "min_width": null,
            "object_fit": null,
            "object_position": null,
            "order": null,
            "overflow": null,
            "overflow_x": null,
            "overflow_y": null,
            "padding": null,
            "right": null,
            "top": null,
            "visibility": null,
            "width": null
          }
        },
        "1eef87d0268b4ac7a0960f0304113994": {
          "model_module": "@jupyter-widgets/base",
          "model_module_version": "1.2.0",
          "model_name": "LayoutModel",
          "state": {
            "_model_module": "@jupyter-widgets/base",
            "_model_module_version": "1.2.0",
            "_model_name": "LayoutModel",
            "_view_count": null,
            "_view_module": "@jupyter-widgets/base",
            "_view_module_version": "1.2.0",
            "_view_name": "LayoutView",
            "align_content": null,
            "align_items": null,
            "align_self": null,
            "border": null,
            "bottom": null,
            "display": null,
            "flex": null,
            "flex_flow": null,
            "grid_area": null,
            "grid_auto_columns": null,
            "grid_auto_flow": null,
            "grid_auto_rows": null,
            "grid_column": null,
            "grid_gap": null,
            "grid_row": null,
            "grid_template_areas": null,
            "grid_template_columns": null,
            "grid_template_rows": null,
            "height": null,
            "justify_content": null,
            "justify_items": null,
            "left": null,
            "margin": null,
            "max_height": null,
            "max_width": null,
            "min_height": null,
            "min_width": null,
            "object_fit": null,
            "object_position": null,
            "order": null,
            "overflow": null,
            "overflow_x": null,
            "overflow_y": null,
            "padding": null,
            "right": null,
            "top": null,
            "visibility": null,
            "width": null
          }
        },
        "459bb3a35c574737a695b3e2d3e609a9": {
          "model_module": "@jupyter-widgets/controls",
          "model_module_version": "1.5.0",
          "model_name": "FloatProgressModel",
          "state": {
            "_dom_classes": [],
            "_model_module": "@jupyter-widgets/controls",
            "_model_module_version": "1.5.0",
            "_model_name": "FloatProgressModel",
            "_view_count": null,
            "_view_module": "@jupyter-widgets/controls",
            "_view_module_version": "1.5.0",
            "_view_name": "ProgressView",
            "bar_style": "success",
            "description": "",
            "description_tooltip": null,
            "layout": "IPY_MODEL_1eef87d0268b4ac7a0960f0304113994",
            "max": 8,
            "min": 0,
            "orientation": "horizontal",
            "style": "IPY_MODEL_c9691dc55fc84e819d1dc0bbc19afe87",
            "value": 8
          }
        },
        "5c0022b886284914be87b6228459e325": {
          "model_module": "@jupyter-widgets/controls",
          "model_module_version": "1.5.0",
          "model_name": "DescriptionStyleModel",
          "state": {
            "_model_module": "@jupyter-widgets/controls",
            "_model_module_version": "1.5.0",
            "_model_name": "DescriptionStyleModel",
            "_view_count": null,
            "_view_module": "@jupyter-widgets/base",
            "_view_module_version": "1.2.0",
            "_view_name": "StyleView",
            "description_width": ""
          }
        },
        "7126cd7d519441278252013816472b58": {
          "model_module": "@jupyter-widgets/controls",
          "model_module_version": "1.5.0",
          "model_name": "HBoxModel",
          "state": {
            "_dom_classes": [],
            "_model_module": "@jupyter-widgets/controls",
            "_model_module_version": "1.5.0",
            "_model_name": "HBoxModel",
            "_view_count": null,
            "_view_module": "@jupyter-widgets/controls",
            "_view_module_version": "1.5.0",
            "_view_name": "HBoxView",
            "box_style": "",
            "children": [
              "IPY_MODEL_9f28a42abc804a5e97edd39d19fac347",
              "IPY_MODEL_459bb3a35c574737a695b3e2d3e609a9",
              "IPY_MODEL_95d80492b2be4005a7752a84c7a84bef"
            ],
            "layout": "IPY_MODEL_001ae07ad4654f36a51934fc1b42be32"
          }
        },
        "95d80492b2be4005a7752a84c7a84bef": {
          "model_module": "@jupyter-widgets/controls",
          "model_module_version": "1.5.0",
          "model_name": "HTMLModel",
          "state": {
            "_dom_classes": [],
            "_model_module": "@jupyter-widgets/controls",
            "_model_module_version": "1.5.0",
            "_model_name": "HTMLModel",
            "_view_count": null,
            "_view_module": "@jupyter-widgets/controls",
            "_view_module_version": "1.5.0",
            "_view_name": "HTMLView",
            "description": "",
            "description_tooltip": null,
            "layout": "IPY_MODEL_ef05a78cdd174ee987b53c114310fde3",
            "placeholder": "​",
            "style": "IPY_MODEL_5c0022b886284914be87b6228459e325",
            "value": " 8/8 [01:28&lt;00:00, 10.13s/it]"
          }
        },
        "9f28a42abc804a5e97edd39d19fac347": {
          "model_module": "@jupyter-widgets/controls",
          "model_module_version": "1.5.0",
          "model_name": "HTMLModel",
          "state": {
            "_dom_classes": [],
            "_model_module": "@jupyter-widgets/controls",
            "_model_module_version": "1.5.0",
            "_model_name": "HTMLModel",
            "_view_count": null,
            "_view_module": "@jupyter-widgets/controls",
            "_view_module_version": "1.5.0",
            "_view_name": "HTMLView",
            "description": "",
            "description_tooltip": null,
            "layout": "IPY_MODEL_c7bdaba6b09e401c80c3c8a292648682",
            "placeholder": "​",
            "style": "IPY_MODEL_da3b93f3ee5940e89c1bbc7044c10520",
            "value": "Loading checkpoint shards: 100%"
          }
        },
        "c7bdaba6b09e401c80c3c8a292648682": {
          "model_module": "@jupyter-widgets/base",
          "model_module_version": "1.2.0",
          "model_name": "LayoutModel",
          "state": {
            "_model_module": "@jupyter-widgets/base",
            "_model_module_version": "1.2.0",
            "_model_name": "LayoutModel",
            "_view_count": null,
            "_view_module": "@jupyter-widgets/base",
            "_view_module_version": "1.2.0",
            "_view_name": "LayoutView",
            "align_content": null,
            "align_items": null,
            "align_self": null,
            "border": null,
            "bottom": null,
            "display": null,
            "flex": null,
            "flex_flow": null,
            "grid_area": null,
            "grid_auto_columns": null,
            "grid_auto_flow": null,
            "grid_auto_rows": null,
            "grid_column": null,
            "grid_gap": null,
            "grid_row": null,
            "grid_template_areas": null,
            "grid_template_columns": null,
            "grid_template_rows": null,
            "height": null,
            "justify_content": null,
            "justify_items": null,
            "left": null,
            "margin": null,
            "max_height": null,
            "max_width": null,
            "min_height": null,
            "min_width": null,
            "object_fit": null,
            "object_position": null,
            "order": null,
            "overflow": null,
            "overflow_x": null,
            "overflow_y": null,
            "padding": null,
            "right": null,
            "top": null,
            "visibility": null,
            "width": null
          }
        },
        "c9691dc55fc84e819d1dc0bbc19afe87": {
          "model_module": "@jupyter-widgets/controls",
          "model_module_version": "1.5.0",
          "model_name": "ProgressStyleModel",
          "state": {
            "_model_module": "@jupyter-widgets/controls",
            "_model_module_version": "1.5.0",
            "_model_name": "ProgressStyleModel",
            "_view_count": null,
            "_view_module": "@jupyter-widgets/base",
            "_view_module_version": "1.2.0",
            "_view_name": "StyleView",
            "bar_color": null,
            "description_width": ""
          }
        },
        "da3b93f3ee5940e89c1bbc7044c10520": {
          "model_module": "@jupyter-widgets/controls",
          "model_module_version": "1.5.0",
          "model_name": "DescriptionStyleModel",
          "state": {
            "_model_module": "@jupyter-widgets/controls",
            "_model_module_version": "1.5.0",
            "_model_name": "DescriptionStyleModel",
            "_view_count": null,
            "_view_module": "@jupyter-widgets/base",
            "_view_module_version": "1.2.0",
            "_view_name": "StyleView",
            "description_width": ""
          }
        },
        "ef05a78cdd174ee987b53c114310fde3": {
          "model_module": "@jupyter-widgets/base",
          "model_module_version": "1.2.0",
          "model_name": "LayoutModel",
          "state": {
            "_model_module": "@jupyter-widgets/base",
            "_model_module_version": "1.2.0",
            "_model_name": "LayoutModel",
            "_view_count": null,
            "_view_module": "@jupyter-widgets/base",
            "_view_module_version": "1.2.0",
            "_view_name": "LayoutView",
            "align_content": null,
            "align_items": null,
            "align_self": null,
            "border": null,
            "bottom": null,
            "display": null,
            "flex": null,
            "flex_flow": null,
            "grid_area": null,
            "grid_auto_columns": null,
            "grid_auto_flow": null,
            "grid_auto_rows": null,
            "grid_column": null,
            "grid_gap": null,
            "grid_row": null,
            "grid_template_areas": null,
            "grid_template_columns": null,
            "grid_template_rows": null,
            "height": null,
            "justify_content": null,
            "justify_items": null,
            "left": null,
            "margin": null,
            "max_height": null,
            "max_width": null,
            "min_height": null,
            "min_width": null,
            "object_fit": null,
            "object_position": null,
            "order": null,
            "overflow": null,
            "overflow_x": null,
            "overflow_y": null,
            "padding": null,
            "right": null,
            "top": null,
            "visibility": null,
            "width": null
          }
        }
      }
    }
  },
  "nbformat": 4,
  "nbformat_minor": 0
}
